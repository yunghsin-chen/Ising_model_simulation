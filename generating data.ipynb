{
 "cells": [
  {
   "cell_type": "code",
   "execution_count": 14,
   "metadata": {},
   "outputs": [],
   "source": [
    "#!/usr/bin/env python\n",
    "# coding: utf-8\n",
    "\n",
    "# ==================================================================== #\n",
    "# author: Yung-Hsin Chen                                               #\n",
    "# copyright: Copyright 2019, Thermal and Statistical Physics Project   #\n",
    "# credit: Mei-Yan Sam, Sing-Hong Chen                                  #                                              \n",
    "# ==================================================================== #\n",
    "\n",
    "# import modules\n",
    "import numpy as np\n",
    "import matplotlib.pyplot as plt\n",
    "from random import randint\n",
    "import math"
   ]
  },
  {
   "cell_type": "markdown",
   "metadata": {},
   "source": [
    "## Hamiltonian"
   ]
  },
  {
   "cell_type": "markdown",
   "metadata": {},
   "source": [
    "perform a Monte Carlo simulation of the 2D Ising model in zero magnetic field.\n",
    "$$\n",
    "  H = -J \\sum_{\\langle i,j\\rangle} \\sigma_i \\sigma_j,\n",
    "$$\n",
    "where $\\sigma=\\pm 1$ and the sum is over nearest-neighbor pairs of sites on a square lattice of $N = L \\times L$ sites."
   ]
  },
  {
   "cell_type": "code",
   "execution_count": 19,
   "metadata": {},
   "outputs": [],
   "source": [
    "# set t interval = 0.02\n",
    "J = 1.0\n",
    "K = 1.0\n",
    "\n",
    "def lattice():\n",
    "    La = np.zeros((L, L))\n",
    "    for i in range(L):\n",
    "        for j in range(L):\n",
    "            La[i][j] = 1\n",
    "    return La\n",
    "\n",
    "# Calculating the Hamiltonian\n",
    "def energy(LA, L):     \n",
    "    E_total = []\n",
    "    for i in range(0, L, 1):\n",
    "        for j in range(0, L, 1):\n",
    "            E = LA[i][j] * LA[(i+1)%L][j] + LA[i][j] * LA[i][(j+1)%L]\n",
    "            E_total.append(E)\n",
    "    Energy = - J * sum(E_total) \n",
    "    return Energy\n",
    "\n",
    "def dE(s, L, i, j):\n",
    "    NB = s[(i+1)%L,j]+s[i,(j+1)%L]+s[(i-1)%L,j]+s[i,(j-1)%L]\n",
    "    dE = 2 * s[i,j] * NB\n",
    "    return dE\n",
    "\n",
    "def magnet(s, L):\n",
    "    M = 0.0\n",
    "    for i in range(L):\n",
    "        for j in range(L):\n",
    "            M += s[i,j]\n",
    "    return M"
   ]
  },
  {
   "cell_type": "markdown",
   "metadata": {},
   "source": [
    "## Sequential update"
   ]
  },
  {
   "cell_type": "code",
   "execution_count": 20,
   "metadata": {},
   "outputs": [],
   "source": [
    "def Monte_Carlo_seq(T, L, N_MC, spins):\n",
    "    # initialize measurements\n",
    "    beta = 1.0/(K*T)\n",
    "    E_sum = 0.0\n",
    "    E_sqr_sum = 0.0\n",
    "    M_sum = 0.0\n",
    "    M_sqr_sum = 0.0\n",
    "    accept = 0\n",
    "\n",
    "    # main MC loop\n",
    "    for n in range(N_MC):\n",
    "        # sequential update\n",
    "        for i in range(L):\n",
    "            for j in range(L):\n",
    "                if np.random.random() < np.exp(- beta * dE(spins, L, i, j)):\n",
    "                    spins[i,j] = -spins[i,j]\n",
    "                    accept += 1\n",
    "        # measurements\n",
    "        E = energy(spins, L)\n",
    "        E_sum += E\n",
    "        E_sqr_sum += E*E\n",
    "        m = magnet(spins, L)\n",
    "        M_sum += np.abs(m) # for <|m|>\n",
    "        M_sqr_sum += m*m\n",
    "        \n",
    "    # average\n",
    "    UPDATES = N_MC\n",
    "    acceptRatio = accept/UPDATES/(L*L)\n",
    "    E = E_sum/UPDATES\n",
    "    E_sqr = E_sqr_sum/UPDATES\n",
    "    C = (E_sqr-E*E)/(K*T*T)\n",
    "    M = M_sum/UPDATES\n",
    "    M_sqr = M_sqr_sum/UPDATES \n",
    "    chi = (M_sqr-M*M)/(K*T)\n",
    "    return E, C, M, chi, acceptRatio\n",
    "\n",
    "T_0 = 1\n",
    "dT = 0.05\n",
    "N_sim = 80\n",
    "N_MC = 10000\n",
    "\n",
    "# plot MC (sequential)                      \n",
    "def data_seq(L):\n",
    "    T_list_seq = []\n",
    "    e_list_seq = []\n",
    "    c_list_seq = []\n",
    "    m_list_seq = []\n",
    "    chi_list_seq = []\n",
    "    spins = np.ones( [L, L], int)\n",
    "    for n in range(N_sim):\n",
    "        T = T_0 + n * dT\n",
    "        E, C, M, chi, acceptRatio = Monte_Carlo_seq(T, L, N_MC, spins)\n",
    "        T_list_seq += [T]\n",
    "        e_list_seq += [E/L/L]\n",
    "        c_list_seq += [C/L/L]\n",
    "        m_list_seq += [M/L/L]\n",
    "        chi_list_seq += [chi/L/L]\n",
    "    return T_list_seq, e_list_seq, c_list_seq, m_list_seq, chi_list_seq"
   ]
  },
  {
   "cell_type": "markdown",
   "metadata": {},
   "source": [
    "## Random update"
   ]
  },
  {
   "cell_type": "code",
   "execution_count": 29,
   "metadata": {},
   "outputs": [],
   "source": [
    "def Monte_Carlo_rd(T, L, N_MC, spins):\n",
    "    # initialize measurements\n",
    "    K = 1\n",
    "    beta = 1.0/(K*T)\n",
    "    E_sum = 0.0\n",
    "    E_sqr_sum = 0.0\n",
    "    M_sum = 0.0\n",
    "    M_sqr_sum = 0.0\n",
    "    N_MC = 10000\n",
    "    accept = 0.0\n",
    "\n",
    "    # main MC loop\n",
    "    for n in range(N_MC):\n",
    "        # random update\n",
    "        for update in range(L*L):\n",
    "            i = np.random.randint(L)\n",
    "            j = np.random.randint(L)\n",
    "            if np.random.random() < np.exp(- beta * dE(spins, L, i, j)):\n",
    "                spins[i,j] = -spins[i,j]\n",
    "                accept += 1\n",
    "        # measurements\n",
    "        E = energy(spins, L)\n",
    "        E_sum += E\n",
    "        E_sqr_sum += E*E\n",
    "        m = magnet(spins, L)\n",
    "        M_sum += np.abs(m) # for <|m|>\n",
    "        M_sqr_sum += m*m\n",
    "        \n",
    "    # average\n",
    "    UPDATES = N_MC\n",
    "    acceptRatio = accept/UPDATES/(L*L)\n",
    "    E = E_sum/UPDATES\n",
    "    E_sqr = E_sqr_sum/UPDATES\n",
    "    C = (E_sqr-E*E)/(K*T*T)\n",
    "    M = M_sum/UPDATES\n",
    "    M_sqr = M_sqr_sum/UPDATES \n",
    "    chi = (M_sqr-M*M)/(K*T)\n",
    "    return E, C, M, chi, acceptRatio\n",
    "\n",
    "T_0 = 1\n",
    "dT = 0.05\n",
    "N_sim = 80\n",
    "N_MC = 10000\n",
    "\n",
    "# plot MC (random)                      \n",
    "def data_rd(L):\n",
    "    T_list_rd = []\n",
    "    e_list_rd = []\n",
    "    c_list_rd = []\n",
    "    m_list_rd = []\n",
    "    chi_list_rd = []\n",
    "    spins = np.ones( [L, L], int)\n",
    "    for n in range(N_sim):\n",
    "        T = T_0 + n * dT\n",
    "        E, C, M, chi, acceptRatio = Monte_Carlo_rd(T, L, N_MC, spins)\n",
    "        T_list_rd += [T]\n",
    "        e_list_rd += [E/L/L]\n",
    "        c_list_rd += [C/L/L]\n",
    "        m_list_rd += [M/L/L]\n",
    "        chi_list_rd += [chi/L/L]\n",
    "    return T_list_rd, e_list_rd, c_list_rd, m_list_rd, chi_list_rd"
   ]
  },
  {
   "cell_type": "markdown",
   "metadata": {},
   "source": [
    "## Save sequantial update data"
   ]
  },
  {
   "cell_type": "code",
   "execution_count": 22,
   "metadata": {},
   "outputs": [],
   "source": [
    "np.save('MC_seq_2.npy', data_seq(2))\n",
    "np.save('MC_seq_4.npy', data_seq(4))\n",
    "np.save('MC_seq_8.npy', data_seq(8))\n",
    "np.save('MC_seq_16.npy', data_seq(16))\n",
    "np.save('MC_seq_32.npy', data_seq(32))"
   ]
  },
  {
   "cell_type": "markdown",
   "metadata": {},
   "source": [
    "## Upload sequential update data"
   ]
  },
  {
   "cell_type": "code",
   "execution_count": 30,
   "metadata": {},
   "outputs": [],
   "source": [
    "np.save('MC_rd_2.npy', data_rd(2))\n",
    "np.save('MC_rd_4.npy', data_rd(4))\n",
    "np.save('MC_rd_8.npy', data_rd(8))\n",
    "np.save('MC_rd_16.npy', data_rd(16))\n",
    "np.save('MC_rd_32.npy', data_rd(32))"
   ]
  }
 ],
 "metadata": {
  "kernelspec": {
   "display_name": "Python 3",
   "language": "python",
   "name": "python3"
  },
  "language_info": {
   "codemirror_mode": {
    "name": "ipython",
    "version": 3
   },
   "file_extension": ".py",
   "mimetype": "text/x-python",
   "name": "python",
   "nbconvert_exporter": "python",
   "pygments_lexer": "ipython3",
   "version": "3.8.3"
  }
 },
 "nbformat": 4,
 "nbformat_minor": 4
}
